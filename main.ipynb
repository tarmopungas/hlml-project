{
 "cells": [
  {
   "cell_type": "code",
   "execution_count": 1,
   "id": "10d535e1-ca2e-4241-b96b-76dfd9814adc",
   "metadata": {},
   "outputs": [],
   "source": [
    "from crowdkit.aggregation import DawidSkene, MajorityVote\n",
    "from crowdkit.datasets import load_dataset\n",
    "import pandas as pd\n",
    "df, gt = load_dataset('relevance-2')"
   ]
  },
  {
   "cell_type": "code",
   "execution_count": 2,
   "id": "e28a1152-8840-48a1-b8df-24a1d4abddd7",
   "metadata": {},
   "outputs": [
    {
     "data": {
      "text/plain": [
       "<Figure size 640x480 with 0 Axes>"
      ]
     },
     "metadata": {},
     "output_type": "display_data"
    }
   ],
   "source": [
    "%matplotlib inline\n",
    "import matplotlib.pyplot as plt\n",
    "plt.style.use('seaborn-whitegrid')\n",
    "import numpy as np\n",
    "plt.tight_layout()"
   ]
  },
  {
   "cell_type": "code",
   "execution_count": 3,
   "id": "a96e7807-eb13-44af-ac5c-45c946f26fae",
   "metadata": {},
   "outputs": [
    {
     "data": {
      "text/html": [
       "<div>\n",
       "<style scoped>\n",
       "    .dataframe tbody tr th:only-of-type {\n",
       "        vertical-align: middle;\n",
       "    }\n",
       "\n",
       "    .dataframe tbody tr th {\n",
       "        vertical-align: top;\n",
       "    }\n",
       "\n",
       "    .dataframe thead th {\n",
       "        text-align: right;\n",
       "    }\n",
       "</style>\n",
       "<table border=\"1\" class=\"dataframe\">\n",
       "  <thead>\n",
       "    <tr style=\"text-align: right;\">\n",
       "      <th></th>\n",
       "      <th>worker</th>\n",
       "      <th>task</th>\n",
       "      <th>label</th>\n",
       "    </tr>\n",
       "  </thead>\n",
       "  <tbody>\n",
       "    <tr>\n",
       "      <th>0</th>\n",
       "      <td>w851</td>\n",
       "      <td>t30685</td>\n",
       "      <td>1</td>\n",
       "    </tr>\n",
       "    <tr>\n",
       "      <th>1</th>\n",
       "      <td>w6991</td>\n",
       "      <td>t30008</td>\n",
       "      <td>0</td>\n",
       "    </tr>\n",
       "    <tr>\n",
       "      <th>2</th>\n",
       "      <td>w2596</td>\n",
       "      <td>t36316</td>\n",
       "      <td>0</td>\n",
       "    </tr>\n",
       "    <tr>\n",
       "      <th>3</th>\n",
       "      <td>w5507</td>\n",
       "      <td>t15145</td>\n",
       "      <td>1</td>\n",
       "    </tr>\n",
       "    <tr>\n",
       "      <th>4</th>\n",
       "      <td>w2982</td>\n",
       "      <td>t44785</td>\n",
       "      <td>1</td>\n",
       "    </tr>\n",
       "    <tr>\n",
       "      <th>...</th>\n",
       "      <td>...</td>\n",
       "      <td>...</td>\n",
       "      <td>...</td>\n",
       "    </tr>\n",
       "    <tr>\n",
       "      <th>475531</th>\n",
       "      <td>w4660</td>\n",
       "      <td>t62250</td>\n",
       "      <td>1</td>\n",
       "    </tr>\n",
       "    <tr>\n",
       "      <th>475532</th>\n",
       "      <td>w6630</td>\n",
       "      <td>t46626</td>\n",
       "      <td>0</td>\n",
       "    </tr>\n",
       "    <tr>\n",
       "      <th>475533</th>\n",
       "      <td>w4605</td>\n",
       "      <td>t93513</td>\n",
       "      <td>1</td>\n",
       "    </tr>\n",
       "    <tr>\n",
       "      <th>475534</th>\n",
       "      <td>w1928</td>\n",
       "      <td>t29002</td>\n",
       "      <td>0</td>\n",
       "    </tr>\n",
       "    <tr>\n",
       "      <th>475535</th>\n",
       "      <td>w5375</td>\n",
       "      <td>t49052</td>\n",
       "      <td>1</td>\n",
       "    </tr>\n",
       "  </tbody>\n",
       "</table>\n",
       "<p>475536 rows × 3 columns</p>\n",
       "</div>"
      ],
      "text/plain": [
       "       worker    task  label\n",
       "0        w851  t30685      1\n",
       "1       w6991  t30008      0\n",
       "2       w2596  t36316      0\n",
       "3       w5507  t15145      1\n",
       "4       w2982  t44785      1\n",
       "...       ...     ...    ...\n",
       "475531  w4660  t62250      1\n",
       "475532  w6630  t46626      0\n",
       "475533  w4605  t93513      1\n",
       "475534  w1928  t29002      0\n",
       "475535  w5375  t49052      1\n",
       "\n",
       "[475536 rows x 3 columns]"
      ]
     },
     "execution_count": 3,
     "metadata": {},
     "output_type": "execute_result"
    }
   ],
   "source": [
    "df"
   ]
  },
  {
   "cell_type": "code",
   "execution_count": 4,
   "id": "2a5852ca-2e6a-4cfb-9edf-292a73cadfab",
   "metadata": {},
   "outputs": [
    {
     "data": {
      "text/plain": [
       "task\n",
       "t30006    0\n",
       "t33578    0\n",
       "t22462    1\n",
       "t52093    0\n",
       "t26935    0\n",
       "         ..\n",
       "t57345    1\n",
       "t81052    1\n",
       "t7189     1\n",
       "t80463    0\n",
       "t93643    0\n",
       "Name: true_label, Length: 10079, dtype: int64"
      ]
     },
     "execution_count": 4,
     "metadata": {},
     "output_type": "execute_result"
    }
   ],
   "source": [
    "gt"
   ]
  },
  {
   "cell_type": "code",
   "execution_count": 59,
   "id": "d7590459-bec5-4e11-ad44-88b64ee83f1b",
   "metadata": {},
   "outputs": [
    {
     "data": {
      "text/plain": [
       "Text(0, 0.5, 'Number of annotators')"
      ]
     },
     "execution_count": 59,
     "metadata": {},
     "output_type": "execute_result"
    },
    {
     "data": {
      "image/png": "[encoded data removed]",
      "text/plain": [
       "<Figure size 640x480 with 1 Axes>"
      ]
     },
     "metadata": {},
     "output_type": "display_data"
    }
   ],
   "source": [
    "# See distribution of how many tasks every worker annotated\n",
    "counts = df['worker'].value_counts().to_list()\n",
    "\n",
    "fig = plt.figure()\n",
    "ax = plt.axes()\n",
    "ax.hist(counts, bins=100, color=\"#0052bb\")\n",
    "ax.set_xlim(0, 1400)\n",
    "#ax.set_xticks(np.arange(0,101,10), minor=False)\n",
    "ax.set_xlabel(\"Tasks annotated\")\n",
    "ax.set_ylabel(\"Number of annotators\")\n",
    "\n",
    "# plt.savefig(\"distribution of annotations\", dpi=100, bbox_inches='tight')"
   ]
  },
  {
   "cell_type": "code",
   "execution_count": 7,
   "id": "3987b470-7c3a-4864-96e4-d1d8879a2b03",
   "metadata": {},
   "outputs": [
    {
     "data": {
      "text/plain": [
       "task\n",
       "t30685    1\n",
       "t30008    0\n",
       "t36316    0\n",
       "t15145    1\n",
       "t44785    0\n",
       "         ..\n",
       "t95222    0\n",
       "t83525    0\n",
       "t49227    0\n",
       "t96106    1\n",
       "t16185    1\n",
       "Name: agg_label, Length: 99319, dtype: int64"
      ]
     },
     "execution_count": 7,
     "metadata": {},
     "output_type": "execute_result"
    }
   ],
   "source": [
    "ds = DawidSkene(n_iter=100)\n",
    "ds_result = ds.fit_predict(df)\n",
    "ds_result"
   ]
  },
  {
   "cell_type": "code",
   "execution_count": 8,
   "id": "0d3e9b8c-7bd6-4cd6-a0b5-465fd500942e",
   "metadata": {},
   "outputs": [
    {
     "data": {
      "text/plain": [
       "task\n",
       "t0       1\n",
       "t1       1\n",
       "t10      1\n",
       "t100     0\n",
       "t1000    0\n",
       "        ..\n",
       "t9995    1\n",
       "t9996    0\n",
       "t9997    0\n",
       "t9998    0\n",
       "t9999    1\n",
       "Name: agg_label, Length: 99319, dtype: int64"
      ]
     },
     "execution_count": 8,
     "metadata": {},
     "output_type": "execute_result"
    }
   ],
   "source": [
    "mv = MajorityVote()\n",
    "mv_result = mv.fit_predict(df)\n",
    "mv_result"
   ]
  },
  {
   "cell_type": "code",
   "execution_count": 9,
   "id": "bb42e4dd-aeb3-4fca-a286-23dbb63c5ed6",
   "metadata": {},
   "outputs": [],
   "source": [
    "from sklearn.metrics import f1_score, accuracy_score"
   ]
  },
  {
   "cell_type": "code",
   "execution_count": 10,
   "id": "714f9a16-5973-41ec-89b5-9b104a41421c",
   "metadata": {},
   "outputs": [
    {
     "data": {
      "text/plain": [
       "0.7621861152141802"
      ]
     },
     "execution_count": 10,
     "metadata": {},
     "output_type": "execute_result"
    }
   ],
   "source": [
    "f1_score(gt, mv_result[gt.index])"
   ]
  },
  {
   "cell_type": "code",
   "execution_count": 11,
   "id": "98d56db2-c26d-4e46-849d-de983d8e6343",
   "metadata": {},
   "outputs": [
    {
     "data": {
      "text/plain": [
       "0.7878520154610712"
      ]
     },
     "execution_count": 11,
     "metadata": {},
     "output_type": "execute_result"
    }
   ],
   "source": [
    "f1_score(gt, ds_result[gt.index])"
   ]
  },
  {
   "cell_type": "markdown",
   "id": "c9566798-c2a6-4aac-a614-46565af44802",
   "metadata": {},
   "source": [
    "## Confusion matrices\n",
    "The workers' error matrices. \"label\" column is the annotation, \"0\" and \"1\" columns are the \"true\" values (according to the model)."
   ]
  },
  {
   "cell_type": "code",
   "execution_count": 12,
   "id": "f726d274-9126-40a8-b2cb-1a3b86e78e61",
   "metadata": {},
   "outputs": [
    {
     "data": {
      "text/html": [
       "<div>\n",
       "<style scoped>\n",
       "    .dataframe tbody tr th:only-of-type {\n",
       "        vertical-align: middle;\n",
       "    }\n",
       "\n",
       "    .dataframe tbody tr th {\n",
       "        vertical-align: top;\n",
       "    }\n",
       "\n",
       "    .dataframe thead th {\n",
       "        text-align: right;\n",
       "    }\n",
       "</style>\n",
       "<table border=\"1\" class=\"dataframe\">\n",
       "  <thead>\n",
       "    <tr style=\"text-align: right;\">\n",
       "      <th></th>\n",
       "      <th></th>\n",
       "      <th>0</th>\n",
       "      <th>1</th>\n",
       "    </tr>\n",
       "    <tr>\n",
       "      <th>worker</th>\n",
       "      <th>label</th>\n",
       "      <th></th>\n",
       "      <th></th>\n",
       "    </tr>\n",
       "  </thead>\n",
       "  <tbody>\n",
       "    <tr>\n",
       "      <th>w851</th>\n",
       "      <th>1</th>\n",
       "      <td>1.000000e+00</td>\n",
       "      <td>1.000000e+00</td>\n",
       "    </tr>\n",
       "    <tr>\n",
       "      <th>w6991</th>\n",
       "      <th>0</th>\n",
       "      <td>8.737855e-01</td>\n",
       "      <td>2.129593e-01</td>\n",
       "    </tr>\n",
       "    <tr>\n",
       "      <th>w2596</th>\n",
       "      <th>0</th>\n",
       "      <td>8.033569e-01</td>\n",
       "      <td>1.475727e-04</td>\n",
       "    </tr>\n",
       "    <tr>\n",
       "      <th>w5507</th>\n",
       "      <th>1</th>\n",
       "      <td>2.296647e-01</td>\n",
       "      <td>8.646991e-01</td>\n",
       "    </tr>\n",
       "    <tr>\n",
       "      <th>w2982</th>\n",
       "      <th>1</th>\n",
       "      <td>1.725128e-01</td>\n",
       "      <td>7.786426e-01</td>\n",
       "    </tr>\n",
       "    <tr>\n",
       "      <th>...</th>\n",
       "      <th>...</th>\n",
       "      <td>...</td>\n",
       "      <td>...</td>\n",
       "    </tr>\n",
       "    <tr>\n",
       "      <th>w6117</th>\n",
       "      <th>0</th>\n",
       "      <td>1.983403e-01</td>\n",
       "      <td>1.481812e-11</td>\n",
       "    </tr>\n",
       "    <tr>\n",
       "      <th>w3477</th>\n",
       "      <th>0</th>\n",
       "      <td>1.978918e-01</td>\n",
       "      <td>1.408250e-02</td>\n",
       "    </tr>\n",
       "    <tr>\n",
       "      <th>w6387</th>\n",
       "      <th>0</th>\n",
       "      <td>4.433634e-04</td>\n",
       "      <td>5.823680e-02</td>\n",
       "    </tr>\n",
       "    <tr>\n",
       "      <th>w2580</th>\n",
       "      <th>1</th>\n",
       "      <td>2.489844e-07</td>\n",
       "      <td>4.379518e-01</td>\n",
       "    </tr>\n",
       "    <tr>\n",
       "      <th>w2985</th>\n",
       "      <th>1</th>\n",
       "      <td>2.697186e-01</td>\n",
       "      <td>7.623734e-03</td>\n",
       "    </tr>\n",
       "  </tbody>\n",
       "</table>\n",
       "<p>14070 rows × 2 columns</p>\n",
       "</div>"
      ],
      "text/plain": [
       "                         0             1\n",
       "worker label                            \n",
       "w851   1      1.000000e+00  1.000000e+00\n",
       "w6991  0      8.737855e-01  2.129593e-01\n",
       "w2596  0      8.033569e-01  1.475727e-04\n",
       "w5507  1      2.296647e-01  8.646991e-01\n",
       "w2982  1      1.725128e-01  7.786426e-01\n",
       "...                    ...           ...\n",
       "w6117  0      1.983403e-01  1.481812e-11\n",
       "w3477  0      1.978918e-01  1.408250e-02\n",
       "w6387  0      4.433634e-04  5.823680e-02\n",
       "w2580  1      2.489844e-07  4.379518e-01\n",
       "w2985  1      2.697186e-01  7.623734e-03\n",
       "\n",
       "[14070 rows x 2 columns]"
      ]
     },
     "execution_count": 12,
     "metadata": {},
     "output_type": "execute_result"
    }
   ],
   "source": [
    "errors_ds = ds.errors_\n",
    "errors_ds"
   ]
  },
  {
   "cell_type": "code",
   "execution_count": 13,
   "id": "95639378-0dd2-40aa-ab69-d96a0a2a0dab",
   "metadata": {},
   "outputs": [
    {
     "data": {
      "text/plain": [
       "Index([0, 1], dtype='object')"
      ]
     },
     "execution_count": 13,
     "metadata": {},
     "output_type": "execute_result"
    }
   ],
   "source": [
    "errors_ds.keys()"
   ]
  },
  {
   "cell_type": "code",
   "execution_count": 14,
   "id": "9daefec2-73b6-4b92-9a4d-4a8e1176f001",
   "metadata": {},
   "outputs": [
    {
     "data": {
      "text/html": [
       "<div>\n",
       "<style scoped>\n",
       "    .dataframe tbody tr th:only-of-type {\n",
       "        vertical-align: middle;\n",
       "    }\n",
       "\n",
       "    .dataframe tbody tr th {\n",
       "        vertical-align: top;\n",
       "    }\n",
       "\n",
       "    .dataframe thead th {\n",
       "        text-align: right;\n",
       "    }\n",
       "</style>\n",
       "<table border=\"1\" class=\"dataframe\">\n",
       "  <thead>\n",
       "    <tr style=\"text-align: right;\">\n",
       "      <th></th>\n",
       "      <th>0</th>\n",
       "      <th>1</th>\n",
       "    </tr>\n",
       "    <tr>\n",
       "      <th>label</th>\n",
       "      <th></th>\n",
       "      <th></th>\n",
       "    </tr>\n",
       "  </thead>\n",
       "  <tbody>\n",
       "    <tr>\n",
       "      <th>0</th>\n",
       "      <td>0.803357</td>\n",
       "      <td>0.000148</td>\n",
       "    </tr>\n",
       "    <tr>\n",
       "      <th>1</th>\n",
       "      <td>0.196643</td>\n",
       "      <td>0.999852</td>\n",
       "    </tr>\n",
       "  </tbody>\n",
       "</table>\n",
       "</div>"
      ],
      "text/plain": [
       "              0         1\n",
       "label                    \n",
       "0      0.803357  0.000148\n",
       "1      0.196643  0.999852"
      ]
     },
     "execution_count": 14,
     "metadata": {},
     "output_type": "execute_result"
    }
   ],
   "source": [
    "errors_ds.loc[\"w2596\"]"
   ]
  },
  {
   "cell_type": "code",
   "execution_count": 15,
   "id": "ec2d8c1d-0485-46a4-a1bd-8f73ea58d077",
   "metadata": {},
   "outputs": [
    {
     "data": {
      "text/html": [
       "<div>\n",
       "<style scoped>\n",
       "    .dataframe tbody tr th:only-of-type {\n",
       "        vertical-align: middle;\n",
       "    }\n",
       "\n",
       "    .dataframe tbody tr th {\n",
       "        vertical-align: top;\n",
       "    }\n",
       "\n",
       "    .dataframe thead th {\n",
       "        text-align: right;\n",
       "    }\n",
       "</style>\n",
       "<table border=\"1\" class=\"dataframe\">\n",
       "  <thead>\n",
       "    <tr style=\"text-align: right;\">\n",
       "      <th></th>\n",
       "      <th>0</th>\n",
       "      <th>1</th>\n",
       "    </tr>\n",
       "    <tr>\n",
       "      <th>label</th>\n",
       "      <th></th>\n",
       "      <th></th>\n",
       "    </tr>\n",
       "  </thead>\n",
       "  <tbody>\n",
       "    <tr>\n",
       "      <th>0</th>\n",
       "      <td>9.999998e-01</td>\n",
       "      <td>0.562048</td>\n",
       "    </tr>\n",
       "    <tr>\n",
       "      <th>1</th>\n",
       "      <td>2.489844e-07</td>\n",
       "      <td>0.437952</td>\n",
       "    </tr>\n",
       "  </tbody>\n",
       "</table>\n",
       "</div>"
      ],
      "text/plain": [
       "                  0         1\n",
       "label                        \n",
       "0      9.999998e-01  0.562048\n",
       "1      2.489844e-07  0.437952"
      ]
     },
     "execution_count": 15,
     "metadata": {},
     "output_type": "execute_result"
    }
   ],
   "source": [
    "errors_ds.loc[\"w2580\"]"
   ]
  },
  {
   "cell_type": "markdown",
   "id": "06ddbc38-64f1-46e5-9acc-ed7492ad1c24",
   "metadata": {
    "tags": []
   },
   "source": [
    "## Accuracies"
   ]
  },
  {
   "cell_type": "code",
   "execution_count": 16,
   "id": "35d1d444-ff3a-4876-b67a-121ba910bc24",
   "metadata": {},
   "outputs": [],
   "source": [
    "worker_ids = set([tup[0] for tup in errors_ds.index])\n",
    "accuracies = dict.fromkeys(worker_ids, 0)\n",
    "\n",
    "for w_id in worker_ids:\n",
    "    # wrong = errors_ds.loc[w_id][0][1] + errors_ds.loc[w_id][1][0]\n",
    "    if 0 in errors_ds.loc[w_id][0].keys():\n",
    "        TN = errors_ds.loc[w_id][0][0]\n",
    "    else:\n",
    "        TN = 0\n",
    "    if 1 in errors_ds.loc[w_id][1].keys():\n",
    "        TP = errors_ds.loc[w_id][1][1]\n",
    "    else:\n",
    "        TP = 0\n",
    "\n",
    "    accuracy = round((TP + TN) / 2 * 100, 2)\n",
    "    accuracies[w_id] = accuracy\n",
    "    \n",
    "    #print(\"worker id:\", w_id)\n",
    "    #print(errors_ds.loc[w_id])\n",
    "    #print(\"this person is correct {}% of the time\".format(accuracy))"
   ]
  },
  {
   "cell_type": "code",
   "execution_count": 17,
   "id": "cef565b6-b917-4123-9141-576413d5e803",
   "metadata": {},
   "outputs": [
    {
     "name": "stdout",
     "output_type": "stream",
     "text": [
      "[0.0, 0.0, 0.03, 0.89, 1.08, 2.35, 8.68, 9.0, 9.07, 9.62, 9.83, 10.24, 10.51, 12.01, 12.59, 13.59, 15.07, 15.65, 16.8, 18.08, 18.37, 18.64, 18.71, 19.5, 20.7, 20.95, 21.05, 21.51, 22.3, 22.36]\n",
      "\n",
      "[99.98, 99.99, 99.99, 99.99, 99.99, 99.99, 99.99, 100.0, 100.0, 100.0, 100.0, 100.0, 100.0, 100.0, 100.0, 100.0, 100.0, 100.0, 100.0, 100.0, 100.0, 100.0, 100.0, 100.0, 100.0, 100.0, 100.0, 100.0, 100.0, 100.0]\n"
     ]
    }
   ],
   "source": [
    "# dict(sorted(accuracies.items(), key=lambda item: item[1], reverse=False))\n",
    "accs = sorted(accuracies.values())\n",
    "print(accs[:30])\n",
    "print()\n",
    "print(accs[-30:])"
   ]
  },
  {
   "cell_type": "code",
   "execution_count": 18,
   "id": "47a44481-776c-4550-bfd1-a808d5438a9b",
   "metadata": {},
   "outputs": [
    {
     "data": {
      "text/plain": [
       "Text(0, 0.5, 'Number of annotators')"
      ]
     },
     "execution_count": 18,
     "metadata": {},
     "output_type": "execute_result"
    },
    {
     "data": {
      "image/png": "[encoded data removed]",
      "text/plain": [
       "<Figure size 640x480 with 1 Axes>"
      ]
     },
     "metadata": {},
     "output_type": "display_data"
    }
   ],
   "source": [
    "# Histogram of all accuracies\n",
    "fig = plt.figure()\n",
    "ax = plt.axes()\n",
    "ax.hist(accuracies.values(), bins=100, color=\"#afbb00\")\n",
    "ax.set_xlim(0, 100)\n",
    "ax.set_xticks(np.arange(0,101,10), minor=False)\n",
    "ax.set_xlabel(\"Accuracy\")\n",
    "ax.set_ylabel(\"Number of annotators\")\n",
    "\n",
    "# plt.savefig(\"distribution of accuracies\", dpi=400, bbox_inches='tight')"
   ]
  },
  {
   "cell_type": "markdown",
   "id": "bbc26aa3-c7f3-41e7-ad0c-f193d94526f2",
   "metadata": {
    "tags": []
   },
   "source": [
    "## Experiment 1\n",
    "### How does setting a threshold for the worker's accuracy affect the test score? (Accuracy based on crowdsourced labels.) "
   ]
  },
  {
   "cell_type": "code",
   "execution_count": 22,
   "id": "33713768-f95b-4fb7-8ded-260919947d27",
   "metadata": {},
   "outputs": [],
   "source": [
    "scores = []\n",
    "mv_scores = []\n",
    "nr_workers = []\n",
    "gt_size = []\n",
    "for threshold in range(0,101):\n",
    "    good_workers = [item[0] for item in accuracies.items() if item[1] >= threshold]\n",
    "    nr_workers.append(len(good_workers))\n",
    "    good_df = df[df['worker'].isin(good_workers)]\n",
    "    \n",
    "    good_ds = DawidSkene(n_iter=100)\n",
    "    good_ds_result = good_ds.fit_predict(good_df)\n",
    "    gt_good = gt[gt.index.isin(good_ds_result.index)]\n",
    "    gt_size.append(len(gt_good))\n",
    "    #score = f1_score(gt_good, good_ds_result[gt_good.index])\n",
    "    #scores.append(score)\n",
    "    \n",
    "    #mv = MajorityVote()\n",
    "    #mv_result = mv.fit_predict(good_df)\n",
    "    #mv_score = f1_score(gt_good, mv_result[gt_good.index])\n",
    "    #mv_scores.append(mv_score)"
   ]
  },
  {
   "cell_type": "code",
   "execution_count": null,
   "id": "df90fc66-62b2-4e8f-af9c-7a8817cb4d17",
   "metadata": {},
   "outputs": [],
   "source": [
    "fig = plt.figure()\n",
    "ax = plt.axes()\n",
    "\n",
    "x = range(0,101)\n",
    "ax.plot(x, scores, c=\"#00AFBB\", alpha = 0.85, label = \"Dawid-Skene\")\n",
    "ax.plot(x, mv_scores, c=\"#bb6a00\", alpha=0.85, label = \"Majority Vote\")\n",
    "ax.set_xlim(0, 100)\n",
    "ax.set_ylim(0.75, 1)\n",
    "ax.set_xlabel(\"Accuracy threshold (Dawid-Skene)\")\n",
    "ax.set_ylabel(\"F1 score (ground truth)\")\n",
    "ax.legend()\n",
    "# plt.savefig(\"accuracy threshold\", dpi=400, bbox_inches='tight')"
   ]
  },
  {
   "cell_type": "code",
   "execution_count": 19,
   "id": "724b273c-1d8d-40b3-a618-83548d6324d0",
   "metadata": {},
   "outputs": [
    {
     "data": {
      "text/plain": [
       "Text(0, 0.5, 'Number of annotators')"
      ]
     },
     "execution_count": 19,
     "metadata": {},
     "output_type": "execute_result"
    },
    {
     "data": {
      "image/png": "[encoded data removed]",
      "text/plain": [
       "<Figure size 640x480 with 1 Axes>"
      ]
     },
     "metadata": {},
     "output_type": "display_data"
    }
   ],
   "source": [
    "fig = plt.figure()\n",
    "ax = plt.axes()\n",
    "\n",
    "x = range(0,101)\n",
    "ax.plot(x, nr_workers, c=\"#FF9933\")\n",
    "ax.set_xlim(0, 100)\n",
    "ax.set_ylim(0, 7500)\n",
    "ax.set_xlabel(\"Accuracy threshold\")\n",
    "ax.set_ylabel(\"Number of annotators\")\n",
    "# plt.savefig(\"number_annotators\", dpi=400, bbox_inches='tight')"
   ]
  },
  {
   "cell_type": "code",
   "execution_count": 26,
   "id": "a5eac91f-09eb-4bfb-9ad9-572a32bb6180",
   "metadata": {},
   "outputs": [
    {
     "data": {
      "text/plain": [
       "Text(0, 0.5, 'Test data size')"
      ]
     },
     "execution_count": 26,
     "metadata": {},
     "output_type": "execute_result"
    },
    {
     "data": {
      "image/png": "[encoded data removed]",
      "text/plain": [
       "<Figure size 640x480 with 1 Axes>"
      ]
     },
     "metadata": {},
     "output_type": "display_data"
    }
   ],
   "source": [
    "fig = plt.figure()\n",
    "ax = plt.axes()\n",
    "\n",
    "x = range(0,101)\n",
    "ax.plot(x, gt_size, c=\"#bb0c00\")\n",
    "ax.set_xlim(0, 100)\n",
    "ax.set_ylim(0, 10500)\n",
    "ax.set_xlabel(\"Accuracy threshold\")\n",
    "ax.set_ylabel(\"Test data size\")\n",
    "# plt.savefig(\"test data size\", dpi=400, bbox_inches='tight')"
   ]
  },
  {
   "cell_type": "markdown",
   "id": "b0dbb961-63be-4d44-a44d-4f6207f9db08",
   "metadata": {
    "jp-MarkdownHeadingCollapsed": true,
    "tags": []
   },
   "source": [
    "## Experiment 2\n",
    "### What if I updated the accuracies every iteration?"
   ]
  },
  {
   "cell_type": "markdown",
   "id": "10c8723f-ae34-46ea-a8df-c23cbce7e813",
   "metadata": {
    "jp-MarkdownHeadingCollapsed": true,
    "tags": []
   },
   "source": [
    "#### Before I used the threshold to leave annotators out based on the *original* accuracies.\n",
    "\n",
    "scores = []\n",
    "mv_scores = []\n",
    "nr_workers = []\n",
    "for threshold in range(0,101):\n",
    "    good_workers = [item[0] for item in accuracies.items() if item[1] >= threshold]\n",
    "    nr_workers.append(len(good_workers))\n",
    "    good_df = df[df['worker'].isin(good_workers)]\n",
    "    \n",
    "    good_ds = DawidSkene(n_iter=100)\n",
    "    good_ds_result = good_ds.fit_predict(good_df)\n",
    "    gt_good = gt[gt.index.isin(good_ds_result.index)]\n",
    "    score = f1_score(gt_good, good_ds_result[gt_good.index])\n",
    "    scores.append(score)\n",
    "    \n",
    "    mv = MajorityVote()\n",
    "    mv_result = mv.fit_predict(good_df)\n",
    "    mv_score = f1_score(gt_good, mv_result[gt_good.index])\n",
    "    mv_scores.append(mv_score)\n",
    "    \n",
    "    errors_ds = good_ds.errors_\n",
    "    worker_ids = set([tup[0] for tup in errors_ds.index])\n",
    "    accuracies = dict.fromkeys(worker_ids, 0)\n",
    "\n",
    "    for w_id in worker_ids:\n",
    "        if 0 in errors_ds.loc[w_id][0].keys():\n",
    "            TN = errors_ds.loc[w_id][0][0]\n",
    "        else:\n",
    "            TN = 0\n",
    "        if 1 in errors_ds.loc[w_id][1].keys():\n",
    "            TP = errors_ds.loc[w_id][1][1]\n",
    "        else:\n",
    "            TP = 0\n",
    "\n",
    "        accuracy = round((TP + TN) / 2 * 100, 2)\n",
    "        accuracies[w_id] = accuracy"
   ]
  },
  {
   "cell_type": "markdown",
   "id": "a975edf3-8981-4483-a148-928cb8edee46",
   "metadata": {},
   "source": [
    "fig = plt.figure()\n",
    "ax = plt.axes()\n",
    "\n",
    "x = range(0,101)\n",
    "ax.plot(x, scores, c=\"#00AFBB\", alpha = 0.85, label = \"Dawid-Skene\")\n",
    "ax.plot(x, mv_scores, c=\"#bb6a00\", alpha=0.85, label = \"Majority Vote\")\n",
    "ax.set_xlim(0, 100)\n",
    "ax.set_ylim(0.75, 1)\n",
    "ax.set_xlabel(\"Accuracy threshold (Dawid-Skene)\")\n",
    "ax.set_ylabel(\"F1 score (ground truth)\")\n",
    "ax.legend()\n",
    "#### plt.savefig(\"accuracy threshold with iterations\", dpi=400, bbox_inches='tight')"
   ]
  },
  {
   "cell_type": "markdown",
   "id": "8a8ad14d-2201-4047-8ac3-c64f42732c4a",
   "metadata": {},
   "source": [
    "fig = plt.figure()\n",
    "ax = plt.axes()\n",
    "\n",
    "x = range(0,101)\n",
    "ax.plot(x, nr_workers, c=\"#FF9933\")\n",
    "ax.set_xlim(0, 100)\n",
    "ax.set_ylim(0, 7500)\n",
    "ax.set_xlabel(\"Accuracy threshold\")\n",
    "ax.set_ylabel(\"Number of annotators\")\n",
    "##### plt.savefig(\"number of annotators with iterations\", dpi=400, bbox_inches='tight')"
   ]
  },
  {
   "cell_type": "markdown",
   "id": "669496dc-fe62-4182-b037-e1b0e62e3eb3",
   "metadata": {},
   "source": [
    "## Experiment 3\n",
    "### Fallback: testing on the full GT data, with accuracy threshold, using initial model as fallback"
   ]
  },
  {
   "cell_type": "code",
   "execution_count": 54,
   "id": "8f147865-012b-4e6f-b490-cbb6a95da0f0",
   "metadata": {},
   "outputs": [],
   "source": [
    "fallback_ds = DawidSkene(n_iter=100)\n",
    "fallback_ds_result = fallback_ds.fit_predict(df)  # Use the labels from the first model as fallback.\n",
    "\n",
    "scores_with_fallback = []\n",
    "for threshold in range(0, 101):\n",
    "    good_workers = [item[0] for item in accuracies.items() if item[1] >= threshold]\n",
    "    good_df = df[df['worker'].isin(good_workers)]\n",
    "\n",
    "    good_ds = DawidSkene(n_iter=100)\n",
    "    good_ds_result = good_ds.fit_predict(good_df)\n",
    "    \n",
    "    # Merge results with fallback labels for instances where no annotators are available\n",
    "    merged_result = good_ds_result.combine_first(fallback_ds_result)\n",
    "    \n",
    "    gt_good = gt[gt.index.isin(merged_result.index)]\n",
    "    score = f1_score(gt_good, merged_result[gt_good.index])\n",
    "    scores_with_fallback.append(score)"
   ]
  },
  {
   "cell_type": "code",
   "execution_count": 55,
   "id": "756ad1de-ed6d-4e8a-b21b-c0e647268f3c",
   "metadata": {},
   "outputs": [
    {
     "data": {
      "image/png": "[encoded data removed]",
      "text/plain": [
       "<Figure size 640x480 with 1 Axes>"
      ]
     },
     "metadata": {},
     "output_type": "display_data"
    }
   ],
   "source": [
    "fig = plt.figure()\n",
    "ax = plt.axes()\n",
    "\n",
    "x = range(0,101)\n",
    "ax.plot(x, scores_with_fallback, c=\"#00AFBB\", alpha = 0.85, label = \"Dawid-Skene\")\n",
    "ax.set_xlim(0, 100)\n",
    "ax.set_ylim(0.75, 1)\n",
    "#ax.set_xlabel(\"Accuracy threshold (Dawid-Skene)\")\n",
    "#ax.set_ylabel(\"F1 score (ground truth)\")\n",
    "#ax.legend()\n",
    "plt.savefig(\"fallback accuracy threshold\", dpi=400, bbox_inches='tight')"
   ]
  },
  {
   "cell_type": "markdown",
   "id": "e1c084da-f2bb-49ea-b18d-7a2de4e9ce9c",
   "metadata": {},
   "source": [
    "## Experiment 4\n",
    "\n",
    "### Adding more noise\n",
    "How do the results change if I add more noise to the data? Both models' performance should drop. But does Dawid-Skene now outperform majority voting by a greater margin?"
   ]
  },
  {
   "cell_type": "code",
   "execution_count": null,
   "id": "05a828ed-7016-4fdb-89c6-b6378c3e29d7",
   "metadata": {},
   "outputs": [],
   "source": [
    "# TODO"
   ]
  }
 ],
 "metadata": {
  "kernelspec": {
   "display_name": "Python 3 (ipykernel)",
   "language": "python",
   "name": "python3"
  },
  "language_info": {
   "codemirror_mode": {
    "name": "ipython",
    "version": 3
   },
   "file_extension": ".py",
   "mimetype": "text/x-python",
   "name": "python",
   "nbconvert_exporter": "python",
   "pygments_lexer": "ipython3",
   "version": "3.10.8"
  }
 },
 "nbformat": 4,
 "nbformat_minor": 5
}
